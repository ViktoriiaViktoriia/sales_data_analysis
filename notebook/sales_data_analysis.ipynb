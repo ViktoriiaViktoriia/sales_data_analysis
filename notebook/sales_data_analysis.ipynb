{
 "cells": [
  {
   "cell_type": "code",
   "execution_count": 1,
   "id": "f3fecec3",
   "metadata": {},
   "outputs": [
    {
     "name": "stdout",
     "output_type": "stream",
     "text": [
      "   ORDERNUMBER  QUANTITYORDERED  PRICEEACH  ORDERLINENUMBER    SALES  \\\n",
      "0        10107               30      95.70                2  2871.00   \n",
      "1        10121               34      81.35                5  2765.90   \n",
      "2        10134               41      94.74                2  3884.34   \n",
      "3        10145               45      83.26                6  3746.70   \n",
      "4        10159               49     100.00               14  5205.27   \n",
      "\n",
      "         ORDERDATE   STATUS  QTR_ID  MONTH_ID  YEAR_ID  PRODUCTLINE  MSRP  \\\n",
      "0   2/24/2003 0:00  Shipped       1         2     2003  Motorcycles    95   \n",
      "1    5/7/2003 0:00  Shipped       2         5     2003  Motorcycles    95   \n",
      "2    7/1/2003 0:00  Shipped       3         7     2003  Motorcycles    95   \n",
      "3   8/25/2003 0:00  Shipped       3         8     2003  Motorcycles    95   \n",
      "4  10/10/2003 0:00  Shipped       4        10     2003  Motorcycles    95   \n",
      "\n",
      "  PRODUCTCODE              CUSTOMERNAME             PHONE  \\\n",
      "0    S10_1678         Land of Toys Inc.        2125557818   \n",
      "1    S10_1678        Reims Collectables        26.47.1555   \n",
      "2    S10_1678           Lyon Souveniers  +33 1 46 62 7555   \n",
      "3    S10_1678         Toys4GrownUps.com        6265557265   \n",
      "4    S10_1678  Corporate Gift Ideas Co.        6505551386   \n",
      "\n",
      "                    ADDRESSLINE1 ADDRESSLINE2           CITY STATE POSTALCODE  \\\n",
      "0        897 Long Airport Avenue          NaN            NYC    NY      10022   \n",
      "1             59 rue de l'Abbaye          NaN          Reims   NaN      51100   \n",
      "2  27 rue du Colonel Pierre Avia          NaN          Paris   NaN      75508   \n",
      "3             78934 Hillside Dr.          NaN       Pasadena    CA      90003   \n",
      "4                7734 Strong St.          NaN  San Francisco    CA        NaN   \n",
      "\n",
      "  COUNTRY TERRITORY CONTACTLASTNAME CONTACTFIRSTNAME DEALSIZE  \n",
      "0     USA       NaN              Yu             Kwai    Small  \n",
      "1  France      EMEA         Henriot             Paul    Small  \n",
      "2  France      EMEA        Da Cunha           Daniel   Medium  \n",
      "3     USA       NaN           Young            Julie   Medium  \n",
      "4     USA       NaN           Brown            Julie   Medium  \n"
     ]
    }
   ],
   "source": [
    "import pandas as pd\n",
    "\n",
    "df = pd.read_csv('sales_data_sample.csv', encoding='ISO-8859-1')\n",
    "pd.set_option('display.max_columns', None)\n",
    "print(df.head())"
   ]
  },
  {
   "cell_type": "code",
   "execution_count": 2,
   "id": "5d2ce7e6",
   "metadata": {},
   "outputs": [
    {
     "name": "stdout",
     "output_type": "stream",
     "text": [
      "<class 'pandas.core.frame.DataFrame'>\n",
      "RangeIndex: 2823 entries, 0 to 2822\n",
      "Data columns (total 25 columns):\n",
      " #   Column            Non-Null Count  Dtype  \n",
      "---  ------            --------------  -----  \n",
      " 0   ORDERNUMBER       2823 non-null   int64  \n",
      " 1   QUANTITYORDERED   2823 non-null   int64  \n",
      " 2   PRICEEACH         2823 non-null   float64\n",
      " 3   ORDERLINENUMBER   2823 non-null   int64  \n",
      " 4   SALES             2823 non-null   float64\n",
      " 5   ORDERDATE         2823 non-null   object \n",
      " 6   STATUS            2823 non-null   object \n",
      " 7   QTR_ID            2823 non-null   int64  \n",
      " 8   MONTH_ID          2823 non-null   int64  \n",
      " 9   YEAR_ID           2823 non-null   int64  \n",
      " 10  PRODUCTLINE       2823 non-null   object \n",
      " 11  MSRP              2823 non-null   int64  \n",
      " 12  PRODUCTCODE       2823 non-null   object \n",
      " 13  CUSTOMERNAME      2823 non-null   object \n",
      " 14  PHONE             2823 non-null   object \n",
      " 15  ADDRESSLINE1      2823 non-null   object \n",
      " 16  ADDRESSLINE2      302 non-null    object \n",
      " 17  CITY              2823 non-null   object \n",
      " 18  STATE             1337 non-null   object \n",
      " 19  POSTALCODE        2747 non-null   object \n",
      " 20  COUNTRY           2823 non-null   object \n",
      " 21  TERRITORY         1749 non-null   object \n",
      " 22  CONTACTLASTNAME   2823 non-null   object \n",
      " 23  CONTACTFIRSTNAME  2823 non-null   object \n",
      " 24  DEALSIZE          2823 non-null   object \n",
      "dtypes: float64(2), int64(7), object(16)\n",
      "memory usage: 551.5+ KB\n"
     ]
    },
    {
     "data": {
      "text/html": [
       "<div>\n",
       "<style scoped>\n",
       "    .dataframe tbody tr th:only-of-type {\n",
       "        vertical-align: middle;\n",
       "    }\n",
       "\n",
       "    .dataframe tbody tr th {\n",
       "        vertical-align: top;\n",
       "    }\n",
       "\n",
       "    .dataframe thead th {\n",
       "        text-align: right;\n",
       "    }\n",
       "</style>\n",
       "<table border=\"1\" class=\"dataframe\">\n",
       "  <thead>\n",
       "    <tr style=\"text-align: right;\">\n",
       "      <th></th>\n",
       "      <th>ORDERNUMBER</th>\n",
       "      <th>QUANTITYORDERED</th>\n",
       "      <th>PRICEEACH</th>\n",
       "      <th>ORDERLINENUMBER</th>\n",
       "      <th>SALES</th>\n",
       "      <th>QTR_ID</th>\n",
       "      <th>MONTH_ID</th>\n",
       "      <th>YEAR_ID</th>\n",
       "      <th>MSRP</th>\n",
       "    </tr>\n",
       "  </thead>\n",
       "  <tbody>\n",
       "    <tr>\n",
       "      <th>count</th>\n",
       "      <td>2823.000000</td>\n",
       "      <td>2823.000000</td>\n",
       "      <td>2823.000000</td>\n",
       "      <td>2823.000000</td>\n",
       "      <td>2823.000000</td>\n",
       "      <td>2823.000000</td>\n",
       "      <td>2823.000000</td>\n",
       "      <td>2823.00000</td>\n",
       "      <td>2823.000000</td>\n",
       "    </tr>\n",
       "    <tr>\n",
       "      <th>mean</th>\n",
       "      <td>10258.725115</td>\n",
       "      <td>35.092809</td>\n",
       "      <td>83.658544</td>\n",
       "      <td>6.466171</td>\n",
       "      <td>3553.889072</td>\n",
       "      <td>2.717676</td>\n",
       "      <td>7.092455</td>\n",
       "      <td>2003.81509</td>\n",
       "      <td>100.715551</td>\n",
       "    </tr>\n",
       "    <tr>\n",
       "      <th>std</th>\n",
       "      <td>92.085478</td>\n",
       "      <td>9.741443</td>\n",
       "      <td>20.174277</td>\n",
       "      <td>4.225841</td>\n",
       "      <td>1841.865106</td>\n",
       "      <td>1.203878</td>\n",
       "      <td>3.656633</td>\n",
       "      <td>0.69967</td>\n",
       "      <td>40.187912</td>\n",
       "    </tr>\n",
       "    <tr>\n",
       "      <th>min</th>\n",
       "      <td>10100.000000</td>\n",
       "      <td>6.000000</td>\n",
       "      <td>26.880000</td>\n",
       "      <td>1.000000</td>\n",
       "      <td>482.130000</td>\n",
       "      <td>1.000000</td>\n",
       "      <td>1.000000</td>\n",
       "      <td>2003.00000</td>\n",
       "      <td>33.000000</td>\n",
       "    </tr>\n",
       "    <tr>\n",
       "      <th>25%</th>\n",
       "      <td>10180.000000</td>\n",
       "      <td>27.000000</td>\n",
       "      <td>68.860000</td>\n",
       "      <td>3.000000</td>\n",
       "      <td>2203.430000</td>\n",
       "      <td>2.000000</td>\n",
       "      <td>4.000000</td>\n",
       "      <td>2003.00000</td>\n",
       "      <td>68.000000</td>\n",
       "    </tr>\n",
       "    <tr>\n",
       "      <th>50%</th>\n",
       "      <td>10262.000000</td>\n",
       "      <td>35.000000</td>\n",
       "      <td>95.700000</td>\n",
       "      <td>6.000000</td>\n",
       "      <td>3184.800000</td>\n",
       "      <td>3.000000</td>\n",
       "      <td>8.000000</td>\n",
       "      <td>2004.00000</td>\n",
       "      <td>99.000000</td>\n",
       "    </tr>\n",
       "    <tr>\n",
       "      <th>75%</th>\n",
       "      <td>10333.500000</td>\n",
       "      <td>43.000000</td>\n",
       "      <td>100.000000</td>\n",
       "      <td>9.000000</td>\n",
       "      <td>4508.000000</td>\n",
       "      <td>4.000000</td>\n",
       "      <td>11.000000</td>\n",
       "      <td>2004.00000</td>\n",
       "      <td>124.000000</td>\n",
       "    </tr>\n",
       "    <tr>\n",
       "      <th>max</th>\n",
       "      <td>10425.000000</td>\n",
       "      <td>97.000000</td>\n",
       "      <td>100.000000</td>\n",
       "      <td>18.000000</td>\n",
       "      <td>14082.800000</td>\n",
       "      <td>4.000000</td>\n",
       "      <td>12.000000</td>\n",
       "      <td>2005.00000</td>\n",
       "      <td>214.000000</td>\n",
       "    </tr>\n",
       "  </tbody>\n",
       "</table>\n",
       "</div>"
      ],
      "text/plain": [
       "        ORDERNUMBER  QUANTITYORDERED    PRICEEACH  ORDERLINENUMBER  \\\n",
       "count   2823.000000      2823.000000  2823.000000      2823.000000   \n",
       "mean   10258.725115        35.092809    83.658544         6.466171   \n",
       "std       92.085478         9.741443    20.174277         4.225841   \n",
       "min    10100.000000         6.000000    26.880000         1.000000   \n",
       "25%    10180.000000        27.000000    68.860000         3.000000   \n",
       "50%    10262.000000        35.000000    95.700000         6.000000   \n",
       "75%    10333.500000        43.000000   100.000000         9.000000   \n",
       "max    10425.000000        97.000000   100.000000        18.000000   \n",
       "\n",
       "              SALES       QTR_ID     MONTH_ID     YEAR_ID         MSRP  \n",
       "count   2823.000000  2823.000000  2823.000000  2823.00000  2823.000000  \n",
       "mean    3553.889072     2.717676     7.092455  2003.81509   100.715551  \n",
       "std     1841.865106     1.203878     3.656633     0.69967    40.187912  \n",
       "min      482.130000     1.000000     1.000000  2003.00000    33.000000  \n",
       "25%     2203.430000     2.000000     4.000000  2003.00000    68.000000  \n",
       "50%     3184.800000     3.000000     8.000000  2004.00000    99.000000  \n",
       "75%     4508.000000     4.000000    11.000000  2004.00000   124.000000  \n",
       "max    14082.800000     4.000000    12.000000  2005.00000   214.000000  "
      ]
     },
     "execution_count": 2,
     "metadata": {},
     "output_type": "execute_result"
    }
   ],
   "source": [
    "#Get an overview and numerical column summaries\n",
    "df.info()\n",
    "df.describe()"
   ]
  },
  {
   "cell_type": "code",
   "execution_count": 3,
   "id": "c9556f37",
   "metadata": {},
   "outputs": [
    {
     "name": "stdout",
     "output_type": "stream",
     "text": [
      "ORDERNUMBER            0\n",
      "QUANTITYORDERED        0\n",
      "PRICEEACH              0\n",
      "ORDERLINENUMBER        0\n",
      "SALES                  0\n",
      "ORDERDATE              0\n",
      "STATUS                 0\n",
      "QTR_ID                 0\n",
      "MONTH_ID               0\n",
      "YEAR_ID                0\n",
      "PRODUCTLINE            0\n",
      "MSRP                   0\n",
      "PRODUCTCODE            0\n",
      "CUSTOMERNAME           0\n",
      "PHONE                  0\n",
      "ADDRESSLINE1           0\n",
      "ADDRESSLINE2        2521\n",
      "CITY                   0\n",
      "STATE               1486\n",
      "POSTALCODE            76\n",
      "COUNTRY                0\n",
      "TERRITORY           1074\n",
      "CONTACTLASTNAME        0\n",
      "CONTACTFIRSTNAME       0\n",
      "DEALSIZE               0\n",
      "dtype: int64\n"
     ]
    }
   ],
   "source": [
    "#2. Check for missing values\n",
    "print(df.isnull().sum())"
   ]
  },
  {
   "cell_type": "code",
   "execution_count": 4,
   "id": "c07522ee",
   "metadata": {},
   "outputs": [
    {
     "name": "stdout",
     "output_type": "stream",
     "text": [
      "   ORDERNUMBER  QUANTITYORDERED  PRICEEACH  ORDERLINENUMBER    SALES  \\\n",
      "0        10107               30      95.70                2  2871.00   \n",
      "1        10121               34      81.35                5  2765.90   \n",
      "2        10134               41      94.74                2  3884.34   \n",
      "3        10145               45      83.26                6  3746.70   \n",
      "4        10159               49     100.00               14  5205.27   \n",
      "\n",
      "         ORDERDATE   STATUS  QTR_ID  MONTH_ID  YEAR_ID  PRODUCTLINE  MSRP  \\\n",
      "0   2/24/2003 0:00  Shipped       1         2     2003  Motorcycles    95   \n",
      "1    5/7/2003 0:00  Shipped       2         5     2003  Motorcycles    95   \n",
      "2    7/1/2003 0:00  Shipped       3         7     2003  Motorcycles    95   \n",
      "3   8/25/2003 0:00  Shipped       3         8     2003  Motorcycles    95   \n",
      "4  10/10/2003 0:00  Shipped       4        10     2003  Motorcycles    95   \n",
      "\n",
      "  PRODUCTCODE              CUSTOMERNAME                   ADDRESSLINE1  \\\n",
      "0    S10_1678         Land of Toys Inc.        897 Long Airport Avenue   \n",
      "1    S10_1678        Reims Collectables             59 rue de l'Abbaye   \n",
      "2    S10_1678           Lyon Souveniers  27 rue du Colonel Pierre Avia   \n",
      "3    S10_1678         Toys4GrownUps.com             78934 Hillside Dr.   \n",
      "4    S10_1678  Corporate Gift Ideas Co.                7734 Strong St.   \n",
      "\n",
      "            CITY COUNTRY DEALSIZE  \n",
      "0            NYC     USA    Small  \n",
      "1          Reims  France    Small  \n",
      "2          Paris  France   Medium  \n",
      "3       Pasadena     USA   Medium  \n",
      "4  San Francisco     USA   Medium  \n"
     ]
    }
   ],
   "source": [
    "# Drop columns with missing values and unnecessary columns\n",
    "df = df.drop(columns=[\"PHONE\", \"ADDRESSLINE2\", 'POSTALCODE', 'STATE', 'TERRITORY', 'CONTACTLASTNAME', 'CONTACTFIRSTNAME'], errors='ignore')\n",
    "print (df.head())"
   ]
  },
  {
   "cell_type": "code",
   "execution_count": 5,
   "id": "b39c3d2a",
   "metadata": {},
   "outputs": [
    {
     "name": "stdout",
     "output_type": "stream",
     "text": [
      "No duplicates found.\n"
     ]
    }
   ],
   "source": [
    "#3. Clean Data\n",
    "#Check for duplicates\n",
    "duplicates = df.duplicated().any()\n",
    "if duplicates:\n",
    "    print(\"Duplicate rows:\")\n",
    "    print(df[duplicates])\n",
    "else:\n",
    "    print(\"No duplicates found.\")\n"
   ]
  },
  {
   "cell_type": "code",
   "execution_count": 6,
   "id": "de9fde2e",
   "metadata": {},
   "outputs": [
    {
     "name": "stdout",
     "output_type": "stream",
     "text": [
      "ORDERNUMBER        0\n",
      "QUANTITYORDERED    0\n",
      "PRICEEACH          0\n",
      "ORDERLINENUMBER    0\n",
      "SALES              0\n",
      "ORDERDATE          0\n",
      "STATUS             0\n",
      "QTR_ID             0\n",
      "MONTH_ID           0\n",
      "YEAR_ID            0\n",
      "PRODUCTLINE        0\n",
      "MSRP               0\n",
      "PRODUCTCODE        0\n",
      "CUSTOMERNAME       0\n",
      "ADDRESSLINE1       0\n",
      "CITY               0\n",
      "COUNTRY            0\n",
      "DEALSIZE           0\n",
      "dtype: int64\n"
     ]
    }
   ],
   "source": [
    "# Check If Any NaN Values Exist\n",
    "df.isna().any().any()\n",
    "\n",
    "# This shows how many NaN values are in each column:\n",
    "print(df.isna().sum())\n"
   ]
  },
  {
   "cell_type": "code",
   "execution_count": 7,
   "id": "e2483286",
   "metadata": {},
   "outputs": [
    {
     "name": "stdout",
     "output_type": "stream",
     "text": [
      "Detecting extra spaces...\n",
      "Extra spaces from strings were removed:\n",
      "Index(['ORDERDATE', 'STATUS', 'PRODUCTLINE', 'PRODUCTCODE', 'CUSTOMERNAME',\n",
      "       'ADDRESSLINE1', 'CITY', 'COUNTRY', 'DEALSIZE'],\n",
      "      dtype='object')\n"
     ]
    }
   ],
   "source": [
    "# Detect extra spaces and remove them from strings\n",
    "print(\"Detecting extra spaces...\")\n",
    "string_columns = df.select_dtypes(include='object').columns\n",
    "print(\"Extra spaces from strings were removed:\")\n",
    "print(string_columns)\n",
    "for column in string_columns:\n",
    "    df[column] = df[column].str.strip()"
   ]
  },
  {
   "cell_type": "code",
   "execution_count": 8,
   "id": "ea5b7c90",
   "metadata": {},
   "outputs": [
    {
     "name": "stdout",
     "output_type": "stream",
     "text": [
      "<class 'pandas.core.frame.DataFrame'>\n",
      "RangeIndex: 2823 entries, 0 to 2822\n",
      "Data columns (total 18 columns):\n",
      " #   Column           Non-Null Count  Dtype         \n",
      "---  ------           --------------  -----         \n",
      " 0   ORDERNUMBER      2823 non-null   int64         \n",
      " 1   QUANTITYORDERED  2823 non-null   int64         \n",
      " 2   PRICEEACH        2823 non-null   float64       \n",
      " 3   ORDERLINENUMBER  2823 non-null   int64         \n",
      " 4   SALES            2823 non-null   float64       \n",
      " 5   ORDERDATE        2823 non-null   datetime64[ns]\n",
      " 6   STATUS           2823 non-null   category      \n",
      " 7   QTR_ID           2823 non-null   int64         \n",
      " 8   MONTH_ID         2823 non-null   int64         \n",
      " 9   YEAR_ID          2823 non-null   int64         \n",
      " 10  PRODUCTLINE      2823 non-null   object        \n",
      " 11  MSRP             2823 non-null   int64         \n",
      " 12  PRODUCTCODE      2823 non-null   object        \n",
      " 13  CUSTOMERNAME     2823 non-null   object        \n",
      " 14  ADDRESSLINE1     2823 non-null   object        \n",
      " 15  CITY             2823 non-null   object        \n",
      " 16  COUNTRY          2823 non-null   object        \n",
      " 17  DEALSIZE         2823 non-null   category      \n",
      "dtypes: category(2), datetime64[ns](1), float64(2), int64(7), object(6)\n",
      "memory usage: 358.9+ KB\n",
      "Data types convertion was completed.\n"
     ]
    }
   ],
   "source": [
    "#4. Convert Data Types\n",
    "#Convert 'ORDERDATE' to datetime\n",
    "df['ORDERDATE'] = pd.to_datetime(df['ORDERDATE'])\n",
    "\n",
    "#Convert categorical columns to category type\n",
    "df = df.astype({'DEALSIZE': 'category', 'STATUS': 'category'})\n",
    "df.info()\n",
    "print(\"Data types convertion was completed.\")"
   ]
  },
  {
   "cell_type": "code",
   "execution_count": 9,
   "id": "66d51b5e",
   "metadata": {},
   "outputs": [
    {
     "name": "stdout",
     "output_type": "stream",
     "text": [
      "New column was added successfully.\n"
     ]
    }
   ],
   "source": [
    "#5.Add new columns\n",
    "# Discount percentage column was created\n",
    "df['DISCOUNT_PCT'] = df.apply(lambda df: ((df['MSRP'] - df['PRICEEACH']) / df['MSRP']) * 100 \n",
    "                              if df[\"MSRP\"] > df[\"PRICEEACH\"] else 0, axis=1)\n",
    "\n",
    "print(\"New column was added successfully.\")"
   ]
  },
  {
   "cell_type": "code",
   "execution_count": 10,
   "id": "dff3967b",
   "metadata": {},
   "outputs": [
    {
     "name": "stdout",
     "output_type": "stream",
     "text": [
      "   ORDERNUMBER  QUANTITYORDERED  PRICEEACH  ORDERLINENUMBER    SALES  \\\n",
      "0        10107               30      95.70                2  2871.00   \n",
      "1        10121               34      81.35                5  2765.90   \n",
      "2        10134               41      94.74                2  3884.34   \n",
      "3        10145               45      83.26                6  3746.70   \n",
      "4        10159               49     100.00               14  5205.27   \n",
      "\n",
      "   ORDERDATE   STATUS  QTR_ID  MONTH_ID  YEAR_ID  PRODUCTLINE  MSRP  \\\n",
      "0 2003-02-24  Shipped       1         2     2003  Motorcycles    95   \n",
      "1 2003-05-07  Shipped       2         5     2003  Motorcycles    95   \n",
      "2 2003-07-01  Shipped       3         7     2003  Motorcycles    95   \n",
      "3 2003-08-25  Shipped       3         8     2003  Motorcycles    95   \n",
      "4 2003-10-10  Shipped       4        10     2003  Motorcycles    95   \n",
      "\n",
      "  PRODUCTCODE              CUSTOMERNAME                   ADDRESSLINE1  \\\n",
      "0    S10_1678         Land of Toys Inc.        897 Long Airport Avenue   \n",
      "1    S10_1678        Reims Collectables             59 rue de l'Abbaye   \n",
      "2    S10_1678           Lyon Souveniers  27 rue du Colonel Pierre Avia   \n",
      "3    S10_1678         Toys4GrownUps.com             78934 Hillside Dr.   \n",
      "4    S10_1678  Corporate Gift Ideas Co.                7734 Strong St.   \n",
      "\n",
      "            CITY COUNTRY DEALSIZE  DISCOUNT_PCT  \n",
      "0            NYC     USA    Small      0.000000  \n",
      "1          Reims  France    Small     14.368421  \n",
      "2          Paris  France   Medium      0.273684  \n",
      "3       Pasadena     USA   Medium     12.357895  \n",
      "4  San Francisco     USA   Medium      0.000000  \n"
     ]
    }
   ],
   "source": [
    "print(df.head()) \n"
   ]
  },
  {
   "cell_type": "code",
   "execution_count": 11,
   "id": "4799a0dd",
   "metadata": {},
   "outputs": [
    {
     "data": {
      "text/html": [
       "<iframe\n",
       "    scrolling=\"no\"\n",
       "    width=\"100%\"\n",
       "    height=\"545px\"\n",
       "    src=\"iframe_figures/figure_11.html\"\n",
       "    frameborder=\"0\"\n",
       "    allowfullscreen\n",
       "></iframe>\n"
      ]
     },
     "metadata": {},
     "output_type": "display_data"
    }
   ],
   "source": [
    "import plotly.express as px\n",
    "import plotly.io as pio\n",
    "pio.renderers.default = \"iframe\"\n",
    "\n",
    "# Group by Year and Month\n",
    "df[\"date\"] = pd.to_datetime(df[[\"YEAR_ID\", \"MONTH_ID\"]].astype(str).agg('-'.join, axis=1))\n",
    "        \n",
    "# Aggregate sales by date\n",
    "total_sales_summary = df.groupby(\"date\")[\"SALES\"].sum().reset_index()\n",
    "\n",
    "# Plot using Plotly\n",
    "fig = px.line(\n",
    "    total_sales_summary,\n",
    "    x = total_sales_summary[\"date\"],\n",
    "    y = total_sales_summary[\"SALES\"],\n",
    "    labels = {'y': 'Total sales', 'x': 'Date'},\n",
    "    color_discrete_sequence = ['#145A32']\n",
    ")\n",
    "\n",
    "# Customize hover template\n",
    "fig.update_traces(\n",
    "    hovertemplate=\"Date = %{x}<br>Total sales = %{y}<extra></extra>\"  \n",
    ")\n",
    "\n",
    "# Update layout\n",
    "fig.update_layout(\n",
    "    title={\n",
    "        \"text\": \"Monthly Sales Performance\",\n",
    "        \"x\": 0.5,  # Center the title\n",
    "        \"xanchor\": \"center\",\n",
    "        \"yanchor\": \"top\"\n",
    "    },\n",
    "    \n",
    "    xaxis_title=\"Date\",\n",
    "    yaxis_title=\"Total sales\",\n",
    "    xaxis=dict(tickangle=-45),\n",
    "    bargap=0.2\n",
    ")\n",
    "\n",
    "fig.show()\n"
   ]
  },
  {
   "cell_type": "code",
   "execution_count": 12,
   "id": "59dc3c59",
   "metadata": {},
   "outputs": [
    {
     "name": "stdout",
     "output_type": "stream",
     "text": [
      "   ORDERNUMBER  QUANTITYORDERED  PRICEEACH  ORDERLINENUMBER    SALES  \\\n",
      "0        10107               30      95.70                2  2871.00   \n",
      "1        10121               34      81.35                5  2765.90   \n",
      "2        10134               41      94.74                2  3884.34   \n",
      "3        10145               45      83.26                6  3746.70   \n",
      "4        10159               49     100.00               14  5205.27   \n",
      "\n",
      "   ORDERDATE   STATUS  QTR_ID  MONTH_ID  YEAR_ID  PRODUCTLINE  MSRP  \\\n",
      "0 2003-02-24  Shipped       1         2     2003  Motorcycles    95   \n",
      "1 2003-05-07  Shipped       2         5     2003  Motorcycles    95   \n",
      "2 2003-07-01  Shipped       3         7     2003  Motorcycles    95   \n",
      "3 2003-08-25  Shipped       3         8     2003  Motorcycles    95   \n",
      "4 2003-10-10  Shipped       4        10     2003  Motorcycles    95   \n",
      "\n",
      "  PRODUCTCODE              CUSTOMERNAME                   ADDRESSLINE1  \\\n",
      "0    S10_1678         Land of Toys Inc.        897 Long Airport Avenue   \n",
      "1    S10_1678        Reims Collectables             59 rue de l'Abbaye   \n",
      "2    S10_1678           Lyon Souveniers  27 rue du Colonel Pierre Avia   \n",
      "3    S10_1678         Toys4GrownUps.com             78934 Hillside Dr.   \n",
      "4    S10_1678  Corporate Gift Ideas Co.                7734 Strong St.   \n",
      "\n",
      "            CITY COUNTRY DEALSIZE  DISCOUNT_PCT       date  \n",
      "0            NYC     USA    Small      0.000000 2003-02-01  \n",
      "1          Reims  France    Small     14.368421 2003-05-01  \n",
      "2          Paris  France   Medium      0.273684 2003-07-01  \n",
      "3       Pasadena     USA   Medium     12.357895 2003-08-01  \n",
      "4  San Francisco     USA   Medium      0.000000 2003-10-01  \n"
     ]
    }
   ],
   "source": [
    "print(df.head())  # Check if df is still accessible\n"
   ]
  },
  {
   "cell_type": "code",
   "execution_count": 13,
   "id": "8185dfd8",
   "metadata": {},
   "outputs": [
    {
     "data": {
      "text/html": [
       "<iframe\n",
       "    scrolling=\"no\"\n",
       "    width=\"100%\"\n",
       "    height=\"545px\"\n",
       "    src=\"iframe_figures/figure_13.html\"\n",
       "    frameborder=\"0\"\n",
       "    allowfullscreen\n",
       "></iframe>\n"
      ]
     },
     "metadata": {},
     "output_type": "display_data"
    }
   ],
   "source": [
    "# Aggregating sales by month using \"ORDERDATE\"\n",
    "df[\"month_orderdate\"] = df[\"ORDERDATE\"].dt.to_period('M').astype(str)\n",
    "total_monthly_sales = df.groupby(\"month_orderdate\")['SALES'].sum().reset_index()\n",
    "\n",
    "# Create interactive line plot\n",
    "fig = px.line(\n",
    "    total_monthly_sales,\n",
    "    x=total_monthly_sales[\"month_orderdate\"],\n",
    "    y=total_monthly_sales[\"SALES\"],\n",
    "    title='Monthly Sales Performance',\n",
    "    labels={'y': 'Date', 'x': 'Total Sales'},\n",
    "    color_discrete_sequence = ['#145A32']\n",
    ")\n",
    "\n",
    "# Customize hover template\n",
    "fig.update_traces(\n",
    "    hovertemplate=\"Date = %{x}<br>Total sales = %{y}<extra></extra>\",\n",
    "    mode='markers+lines'   \n",
    ")\n",
    "\n",
    "# Update layout\n",
    "fig.update_layout(\n",
    "    title={\n",
    "        \"text\": \"Monthly Sales Performance\",\n",
    "        \"x\": 0.5,  # Center the title\n",
    "        \"xanchor\": \"center\",\n",
    "        \"yanchor\": \"top\"\n",
    "    },\n",
    "    \n",
    "    xaxis_title=\"Date\",\n",
    "    yaxis_title=\"Total sales\",\n",
    "    xaxis=dict(tickangle=-45),\n",
    "    bargap=0.2\n",
    ")\n",
    "fig.show()\n"
   ]
  },
  {
   "cell_type": "code",
   "execution_count": 14,
   "id": "0065c186",
   "metadata": {},
   "outputs": [
    {
     "name": "stdout",
     "output_type": "stream",
     "text": [
      "   ORDERNUMBER  QUANTITYORDERED  PRICEEACH  ORDERLINENUMBER    SALES  \\\n",
      "0        10107               30      95.70                2  2871.00   \n",
      "1        10121               34      81.35                5  2765.90   \n",
      "2        10134               41      94.74                2  3884.34   \n",
      "3        10145               45      83.26                6  3746.70   \n",
      "4        10159               49     100.00               14  5205.27   \n",
      "\n",
      "   ORDERDATE   STATUS  QTR_ID  MONTH_ID  YEAR_ID  PRODUCTLINE  MSRP  \\\n",
      "0 2003-02-24  Shipped       1         2     2003  Motorcycles    95   \n",
      "1 2003-05-07  Shipped       2         5     2003  Motorcycles    95   \n",
      "2 2003-07-01  Shipped       3         7     2003  Motorcycles    95   \n",
      "3 2003-08-25  Shipped       3         8     2003  Motorcycles    95   \n",
      "4 2003-10-10  Shipped       4        10     2003  Motorcycles    95   \n",
      "\n",
      "  PRODUCTCODE              CUSTOMERNAME                   ADDRESSLINE1  \\\n",
      "0    S10_1678         Land of Toys Inc.        897 Long Airport Avenue   \n",
      "1    S10_1678        Reims Collectables             59 rue de l'Abbaye   \n",
      "2    S10_1678           Lyon Souveniers  27 rue du Colonel Pierre Avia   \n",
      "3    S10_1678         Toys4GrownUps.com             78934 Hillside Dr.   \n",
      "4    S10_1678  Corporate Gift Ideas Co.                7734 Strong St.   \n",
      "\n",
      "            CITY COUNTRY DEALSIZE  DISCOUNT_PCT       date month_orderdate  \n",
      "0            NYC     USA    Small      0.000000 2003-02-01         2003-02  \n",
      "1          Reims  France    Small     14.368421 2003-05-01         2003-05  \n",
      "2          Paris  France   Medium      0.273684 2003-07-01         2003-07  \n",
      "3       Pasadena     USA   Medium     12.357895 2003-08-01         2003-08  \n",
      "4  San Francisco     USA   Medium      0.000000 2003-10-01         2003-10  \n",
      "Index(['ORDERNUMBER', 'QUANTITYORDERED', 'PRICEEACH', 'ORDERLINENUMBER',\n",
      "       'SALES', 'ORDERDATE', 'STATUS', 'QTR_ID', 'MONTH_ID', 'YEAR_ID',\n",
      "       'PRODUCTLINE', 'MSRP', 'PRODUCTCODE', 'CUSTOMERNAME', 'ADDRESSLINE1',\n",
      "       'CITY', 'COUNTRY', 'DEALSIZE', 'DISCOUNT_PCT', 'date',\n",
      "       'month_orderdate'],\n",
      "      dtype='object')\n"
     ]
    }
   ],
   "source": [
    "print(df.head())  # Show first 5 rows\n",
    "print(df.columns)  # Check available columns\n"
   ]
  },
  {
   "cell_type": "code",
   "execution_count": 15,
   "id": "64049338",
   "metadata": {},
   "outputs": [
    {
     "data": {
      "text/html": [
       "<iframe\n",
       "    scrolling=\"no\"\n",
       "    width=\"100%\"\n",
       "    height=\"545px\"\n",
       "    src=\"iframe_figures/figure_15.html\"\n",
       "    frameborder=\"0\"\n",
       "    allowfullscreen\n",
       "></iframe>\n"
      ]
     },
     "metadata": {},
     "output_type": "display_data"
    }
   ],
   "source": [
    "# Aggregate sales by region\n",
    "regional_sales = df.groupby([\"COUNTRY\", \"YEAR_ID\"])[\"SALES\"].sum().reset_index()\n",
    "\n",
    "# Plot using Plotly\n",
    "fig = px.bar(\n",
    "    regional_sales,\n",
    "    x = regional_sales[\"YEAR_ID\"],\n",
    "    y = regional_sales[\"SALES\"],\n",
    "    color = regional_sales[\"COUNTRY\"],\n",
    "    barmode=\"group\",\n",
    "    labels = {'y': 'Total sales', 'x': 'Year', 'color': 'Country'}\n",
    ")\n",
    "\n",
    "# Assign country info to customdata\n",
    "fig.for_each_trace(lambda trace: trace.update(customdata=regional_sales[regional_sales[\"COUNTRY\"] == trace.name][[\"COUNTRY\"]]))\n",
    "\n",
    "# Customize hover template\n",
    "fig.update_traces(\n",
    "    hovertemplate=\"Country = %{customdata}<br>Year = %{x}<br>Total sales = %{y}<extra></extra>\"\n",
    ")\n",
    "\n",
    "# Update layout\n",
    "fig.update_layout(\n",
    "    title={\n",
    "        \"text\": \"Regional Sales Performance Over Time\",\n",
    "        \"x\": 0.5,  # Center the title\n",
    "        \"xanchor\": \"center\",\n",
    "        \"yanchor\": \"top\"\n",
    "    },\n",
    "    \n",
    "    xaxis_title=\"Year\",\n",
    "    yaxis_title=\"Total sales\",\n",
    "    xaxis=dict(tickangle=-45),\n",
    "    bargap=0.2\n",
    ")\n",
    "\n",
    "fig.show()"
   ]
  },
  {
   "cell_type": "code",
   "execution_count": 16,
   "id": "26be0175",
   "metadata": {},
   "outputs": [
    {
     "name": "stdout",
     "output_type": "stream",
     "text": [
      "     COUNTRY   AVERAGESALES ISO_CODES\n",
      "0  Australia  210207.700000       AUS\n",
      "1    Austria   67354.176667       AUT\n",
      "2    Belgium   36137.540000       BEL\n",
      "3     Canada   74692.853333       CAN\n",
      "4    Denmark   81879.050000       DNK\n"
     ]
    },
    {
     "data": {
      "text/html": [
       "<iframe\n",
       "    scrolling=\"no\"\n",
       "    width=\"100%\"\n",
       "    height=\"545px\"\n",
       "    src=\"iframe_figures/figure_16.html\"\n",
       "    frameborder=\"0\"\n",
       "    allowfullscreen\n",
       "></iframe>\n"
      ]
     },
     "metadata": {},
     "output_type": "display_data"
    }
   ],
   "source": [
    "#!pip install pycountry\n",
    "import pycountry\n",
    "\n",
    "# Group by country and calculate average sales over years\n",
    "avg_regional_sales = regional_sales.groupby(\"COUNTRY\")[\"SALES\"].mean().reset_index()\n",
    "\n",
    "avg_regional_sales.columns = [\"COUNTRY\", \"AVERAGESALES\"]\n",
    "\n",
    "# Function to get ISO-3 country codes\n",
    "def get_iso3_country_codes(country_name):\n",
    "    try:\n",
    "        return pycountry.countries.lookup(country_name).alpha_3\n",
    "    except LookupError:\n",
    "        return None  # If not found, return None\n",
    "\n",
    "# Apply function to create new column with ISO-3 codes\n",
    "avg_regional_sales[\"ISO_CODES\"] = avg_regional_sales[\"COUNTRY\"].apply(get_iso3_country_codes)\n",
    "\n",
    "# Display the DataFrame\n",
    "avg_regional_sales\n",
    "\n",
    "print(avg_regional_sales.head())\n",
    "\n",
    "# Check for missing values\n",
    "avg_regional_sales[avg_regional_sales[\"ISO_CODES\"].isna()]\n",
    "\n",
    "\n",
    "fig = px.choropleth(\n",
    "    avg_regional_sales,\n",
    "    locations=\"ISO_CODES\",       \n",
    "    color=\"AVERAGESALES\",           \n",
    "    hover_name=\"COUNTRY\",\n",
    "    hover_data={\"ISO_CODES\":False},\n",
    "    color_continuous_scale=\"Viridis\",  # Color scale\n",
    "    projection=\"natural earth\",  # Map projection type\n",
    "    title=\"Average Regional Sales Performance (2003-2005)\",\n",
    "    labels = {\"ISO_CODES\": \"ISO-3 code\", \"AVERAGESALES\": 'Average sales', \"COUNTRY\": \"Country\"}\n",
    ")\n",
    "\n",
    "# Update layout\n",
    "fig.update_layout(\n",
    "    title={\n",
    "        \"x\": 0.45,  # Center the title\n",
    "        \"xanchor\": \"center\",\n",
    "        \"yanchor\": \"top\"\n",
    "    }\n",
    ")\n",
    "\n",
    "fig.show()"
   ]
  },
  {
   "cell_type": "code",
   "execution_count": 17,
   "id": "d285495f",
   "metadata": {},
   "outputs": [
    {
     "name": "stdout",
     "output_type": "stream",
     "text": [
      "   ORDERNUMBER  QUANTITYORDERED  PRICEEACH  ORDERLINENUMBER    SALES  \\\n",
      "0        10107               30      95.70                2  2871.00   \n",
      "1        10121               34      81.35                5  2765.90   \n",
      "2        10134               41      94.74                2  3884.34   \n",
      "3        10145               45      83.26                6  3746.70   \n",
      "4        10159               49     100.00               14  5205.27   \n",
      "\n",
      "   ORDERDATE   STATUS  QTR_ID  MONTH_ID  YEAR_ID  PRODUCTLINE  MSRP  \\\n",
      "0 2003-02-24  Shipped       1         2     2003  Motorcycles    95   \n",
      "1 2003-05-07  Shipped       2         5     2003  Motorcycles    95   \n",
      "2 2003-07-01  Shipped       3         7     2003  Motorcycles    95   \n",
      "3 2003-08-25  Shipped       3         8     2003  Motorcycles    95   \n",
      "4 2003-10-10  Shipped       4        10     2003  Motorcycles    95   \n",
      "\n",
      "  PRODUCTCODE              CUSTOMERNAME                   ADDRESSLINE1  \\\n",
      "0    S10_1678         Land of Toys Inc.        897 Long Airport Avenue   \n",
      "1    S10_1678        Reims Collectables             59 rue de l'Abbaye   \n",
      "2    S10_1678           Lyon Souveniers  27 rue du Colonel Pierre Avia   \n",
      "3    S10_1678         Toys4GrownUps.com             78934 Hillside Dr.   \n",
      "4    S10_1678  Corporate Gift Ideas Co.                7734 Strong St.   \n",
      "\n",
      "            CITY COUNTRY DEALSIZE  DISCOUNT_PCT       date month_orderdate  \n",
      "0            NYC     USA    Small      0.000000 2003-02-01         2003-02  \n",
      "1          Reims  France    Small     14.368421 2003-05-01         2003-05  \n",
      "2          Paris  France   Medium      0.273684 2003-07-01         2003-07  \n",
      "3       Pasadena     USA   Medium     12.357895 2003-08-01         2003-08  \n",
      "4  San Francisco     USA   Medium      0.000000 2003-10-01         2003-10  \n",
      "<class 'pandas.core.frame.DataFrame'>\n",
      "RangeIndex: 2823 entries, 0 to 2822\n",
      "Data columns (total 21 columns):\n",
      " #   Column           Non-Null Count  Dtype         \n",
      "---  ------           --------------  -----         \n",
      " 0   ORDERNUMBER      2823 non-null   int64         \n",
      " 1   QUANTITYORDERED  2823 non-null   int64         \n",
      " 2   PRICEEACH        2823 non-null   float64       \n",
      " 3   ORDERLINENUMBER  2823 non-null   int64         \n",
      " 4   SALES            2823 non-null   float64       \n",
      " 5   ORDERDATE        2823 non-null   datetime64[ns]\n",
      " 6   STATUS           2823 non-null   category      \n",
      " 7   QTR_ID           2823 non-null   int64         \n",
      " 8   MONTH_ID         2823 non-null   int64         \n",
      " 9   YEAR_ID          2823 non-null   int64         \n",
      " 10  PRODUCTLINE      2823 non-null   object        \n",
      " 11  MSRP             2823 non-null   int64         \n",
      " 12  PRODUCTCODE      2823 non-null   object        \n",
      " 13  CUSTOMERNAME     2823 non-null   object        \n",
      " 14  ADDRESSLINE1     2823 non-null   object        \n",
      " 15  CITY             2823 non-null   object        \n",
      " 16  COUNTRY          2823 non-null   object        \n",
      " 17  DEALSIZE         2823 non-null   category      \n",
      " 18  DISCOUNT_PCT     2823 non-null   float64       \n",
      " 19  date             2823 non-null   datetime64[ns]\n",
      " 20  month_orderdate  2823 non-null   object        \n",
      "dtypes: category(2), datetime64[ns](2), float64(3), int64(7), object(7)\n",
      "memory usage: 425.0+ KB\n"
     ]
    }
   ],
   "source": [
    "print(df.head())\n",
    "df.info()"
   ]
  },
  {
   "cell_type": "code",
   "execution_count": 18,
   "id": "211c62f3",
   "metadata": {},
   "outputs": [
    {
     "name": "stdout",
     "output_type": "stream",
     "text": [
      "      PRODUCTLINE COUNTRY ORDERDATE      SALES\n",
      "111  Classic Cars     USA   2003-11  187509.90\n",
      "122  Classic Cars     USA   2004-11  172830.04\n",
      "119  Classic Cars     USA   2004-08  113493.84\n",
      "185   Motorcycles     USA   2004-11   94301.80\n",
      "515  Vintage Cars     USA   2004-11   82529.87\n"
     ]
    }
   ],
   "source": [
    "# Group by Product, Country, and Date, summing up the sales\n",
    "bestsellers = (\n",
    "    df.groupby([\"PRODUCTLINE\", \"COUNTRY\", df[\"ORDERDATE\"].dt.to_period(\"M\").astype(str)])[\"SALES\"]\n",
    "    .sum()\n",
    "    .reset_index()\n",
    ")\n",
    "\n",
    "# Sort by total sales in descending order and get the top 5\n",
    "top_5_products = bestsellers.sort_values(\"SALES\", ascending=False).head(5)\n",
    "\n",
    "# Display the results\n",
    "print(top_5_products)"
   ]
  },
  {
   "cell_type": "code",
   "execution_count": 19,
   "id": "16d76b6e",
   "metadata": {},
   "outputs": [
    {
     "data": {
      "text/html": [
       "<iframe\n",
       "    scrolling=\"no\"\n",
       "    width=\"100%\"\n",
       "    height=\"545px\"\n",
       "    src=\"iframe_figures/figure_19.html\"\n",
       "    frameborder=\"0\"\n",
       "    allowfullscreen\n",
       "></iframe>\n"
      ]
     },
     "metadata": {},
     "output_type": "display_data"
    }
   ],
   "source": [
    "# Create a bar chart\n",
    "fig = px.bar(\n",
    "    top_5_products, \n",
    "    x=\"PRODUCTLINE\", \n",
    "    y=\"SALES\", \n",
    "    color=\"COUNTRY\",\n",
    "    title=\"Top 5 Best-Selling Products\",\n",
    "    text=\"ORDERDATE\"\n",
    ")\n",
    "\n",
    "# Customize hover template\n",
    "fig.update_traces(\n",
    "    hovertemplate=\"Product = %{x}<br>Sales = %{y}<br>Date = %{text}<extra></extra>\"\n",
    ")\n",
    "\n",
    "# Update layout\n",
    "fig.update_layout(\n",
    "    title={\n",
    "        \"text\": \"Top 5 Best-Selling Products\",\n",
    "        \"x\": 0.5,  # Center the title\n",
    "        \"xanchor\": \"center\",\n",
    "        \"yanchor\": \"top\"\n",
    "    },\n",
    "    bargap=0.2\n",
    ")\n",
    "\n",
    "fig.show()"
   ]
  },
  {
   "cell_type": "code",
   "execution_count": 20,
   "id": "a990ac2d",
   "metadata": {},
   "outputs": [
    {
     "data": {
      "text/html": [
       "<iframe\n",
       "    scrolling=\"no\"\n",
       "    width=\"100%\"\n",
       "    height=\"545px\"\n",
       "    src=\"iframe_figures/figure_20.html\"\n",
       "    frameborder=\"0\"\n",
       "    allowfullscreen\n",
       "></iframe>\n"
      ]
     },
     "metadata": {},
     "output_type": "display_data"
    }
   ],
   "source": [
    "# Analyze if products with higher MSRP values contribute more to total sales\n",
    "# Total sales by MSRP\n",
    "# Histogram shows frequency distributions\n",
    "msrp_distribution_df = df.groupby([\"MSRP\", \"PRODUCTLINE\"])[\"SALES\"].sum().reset_index()\n",
    "\n",
    "fig = px.histogram(\n",
    "    msrp_distribution_df, \n",
    "    x = \"MSRP\", \n",
    "    y = \"SALES\",\n",
    "    color = \"PRODUCTLINE\", \n",
    "    labels = {\"PRODUCTLINE\": \"Product\", \"SALES\": \"Sales\"},\n",
    "    color_discrete_sequence=[\"#C75AA1\", \"#A7CA91\", \"#C85D00\", \"#042F9A\", \"#B4C0E7\", \"#FFD5E1\", \"#CB0536\"]\n",
    "    \n",
    ")\n",
    "\n",
    "fig.update_layout(\n",
    "    xaxis_title = \"MSRP\", \n",
    "    yaxis_title = \"Total Sales\",\n",
    "    title = dict(\n",
    "        text= \"Total Sales Distribution by MSRP\",\n",
    "        x=0.5,  # Center the title\n",
    "        xanchor=\"center\",\n",
    "        yanchor=\"top\",\n",
    "        y=0.95,\n",
    "        font=dict(\n",
    "            size=24,\n",
    "            weight=\"bold\"\n",
    "        ) \n",
    "    ),\n",
    "    margin=dict(t=110)\n",
    ")\n",
    "\n",
    "fig.show()"
   ]
  },
  {
   "cell_type": "code",
   "execution_count": 21,
   "id": "5c573fc5",
   "metadata": {},
   "outputs": [
    {
     "data": {
      "text/html": [
       "<iframe\n",
       "    scrolling=\"no\"\n",
       "    width=\"100%\"\n",
       "    height=\"545px\"\n",
       "    src=\"iframe_figures/figure_21.html\"\n",
       "    frameborder=\"0\"\n",
       "    allowfullscreen\n",
       "></iframe>\n"
      ]
     },
     "metadata": {},
     "output_type": "display_data"
    }
   ],
   "source": [
    "# Scatter plot shows individual data points\n",
    "# Explore how MSRP is distributed across products to identify pricing outliers\n",
    "fig2 = px.scatter(\n",
    "    msrp_distribution_df, \n",
    "    x=\"MSRP\", \n",
    "    y=\"SALES\", \n",
    "    color = \"PRODUCTLINE\",            \n",
    "    hover_data=[\"MSRP\"],\n",
    "    labels = {\"PRODUCTLINE\": \"Product\", \"SALES\": \"Sales\"}\n",
    ")\n",
    "\n",
    "fig2.update_layout(\n",
    "    xaxis_title = \"MSRP\", \n",
    "    yaxis_title = \"Individual Sales\",\n",
    "    title = {\n",
    "        \"text\": \"Individual Sales Distribution by MSRP\",\n",
    "        \"x\": 0.5,  # Center the title\n",
    "        \"xanchor\": \"center\",\n",
    "        \"yanchor\": \"top\"\n",
    "    }  \n",
    ")\n",
    "\n",
    "fig2.show()"
   ]
  },
  {
   "cell_type": "code",
   "execution_count": 22,
   "id": "7d0de745",
   "metadata": {},
   "outputs": [
    {
     "data": {
      "text/html": [
       "<iframe\n",
       "    scrolling=\"no\"\n",
       "    width=\"100%\"\n",
       "    height=\"545px\"\n",
       "    src=\"iframe_figures/figure_22.html\"\n",
       "    frameborder=\"0\"\n",
       "    allowfullscreen\n",
       "></iframe>\n"
      ]
     },
     "metadata": {},
     "output_type": "display_data"
    }
   ],
   "source": [
    "# MSRP vs Sale price by Product Category\n",
    "grouped_df = df.groupby([\"PRODUCTLINE\"])[[\"MSRP\", \"PRICEEACH\"]].mean().reset_index()  \n",
    "\n",
    "grouped_melted_df = grouped_df.melt(\n",
    "        id_vars = \"PRODUCTLINE\", \n",
    "        value_vars = [\"MSRP\", \"PRICEEACH\"],\n",
    "        var_name = \"PRICETYPE\", \n",
    "        value_name = \"PRICEVALUE\"\n",
    ")\n",
    "\n",
    "# Rename \"PRICEEACH\" to \"Sale price\" in \"PRICETYPE\"\n",
    "grouped_melted_df[\"PRICETYPE\"] = grouped_melted_df[\"PRICETYPE\"].replace({\n",
    "    \"PRICEEACH\": \"Sale price\",\n",
    "    \"MSRP\": \"MSRP\"  # Keep MSRP unchanged\n",
    "})\n",
    "\n",
    "fig = px.scatter(\n",
    "    grouped_melted_df,\n",
    "    x = \"PRODUCTLINE\", \n",
    "    y = \"PRICEVALUE\", \n",
    "    color = \"PRICETYPE\",\n",
    "    labels = {\"PRICETYPE\": \"Price type\", \"PRODUCTLINE\": \"Product\", \"PRICEVALUE\": \"Price value\"},\n",
    "    title = \"MSRP vs Sale price per Product\"\n",
    ")\n",
    "\n",
    "fig.update_layout(\n",
    "    xaxis_title = \"Product\", \n",
    "    yaxis_title = \"MSRP vs Sale price\", \n",
    "    xaxis_tickangle = -45,\n",
    "    title = {\n",
    "        \"x\": 0.5,  # Center the title\n",
    "        \"xanchor\": \"center\",\n",
    "        \"yanchor\": \"top\"\n",
    "    }  \n",
    ")\n",
    "\n",
    "fig.show()\n"
   ]
  },
  {
   "cell_type": "code",
   "execution_count": 23,
   "id": "fa1b19e6",
   "metadata": {},
   "outputs": [
    {
     "name": "stdout",
     "output_type": "stream",
     "text": [
      "Index(['PRODUCTLINE', 'SALES', 'QUANTITYORDERED', 'PRICETYPE', 'PRICE'], dtype='object')\n",
      "    PRODUCTLINE       SALES  QUANTITYORDERED PRICETYPE       PRICE\n",
      "0  Classic Cars  3919615.66            33992      MSRP  119.885212\n",
      "1   Motorcycles  1166388.34            11663      MSRP   97.069486\n",
      "2        Planes   975003.57            10727      MSRP   88.767974\n",
      "3         Ships   714437.13             8127      MSRP   86.128205\n",
      "4        Trains   226243.47             2712      MSRP   72.987013\n",
      "     PRODUCTLINE       SALES  QUANTITYORDERED  PRICETYPE      PRICE\n",
      "7   Classic Cars  3919615.66            33992  PRICEEACH  87.335781\n",
      "8    Motorcycles  1166388.34            11663  PRICEEACH  82.997553\n",
      "9         Planes   975003.57            10727  PRICEEACH  81.740915\n",
      "10         Ships   714437.13             8127  PRICEEACH  83.855470\n",
      "11        Trains   226243.47             2712  PRICEEACH  75.654675\n"
     ]
    },
    {
     "data": {
      "image/png": "[encoded data removed]",
      "text/plain": [
       "<Figure size 1440x2520 with 2 Axes>"
      ]
     },
     "metadata": {
      "needs_background": "light"
     },
     "output_type": "display_data"
    }
   ],
   "source": [
    "import matplotlib.pyplot as plt\n",
    "import numpy as np\n",
    "import matplotlib.ticker as mticker\n",
    "\n",
    "# Group by product\n",
    "df_grouped = df.groupby(\"PRODUCTLINE\").agg({\n",
    "    \"MSRP\": \"mean\",               # Get mean MSRP\n",
    "    \"PRICEEACH\": \"mean\",         # Get mean sale price\n",
    "    \"SALES\": \"sum\",               # Sum of total sales\n",
    "    \"QUANTITYORDERED\": \"sum\"     # Sum of quantity ordered\n",
    "}).reset_index()\n",
    "\n",
    "# Reshape the data using melt()\n",
    "df_melted = df_grouped.melt(\n",
    "    id_vars=[\"PRODUCTLINE\", \"SALES\", \"QUANTITYORDERED\"],\n",
    "    value_vars=[\"MSRP\", \"PRICEEACH\"],\n",
    "    var_name=\"PRICETYPE\",\n",
    "    value_name=\"PRICE\"\n",
    ")\n",
    "\n",
    "# Create figure\n",
    "fig, ax = plt.subplots(figsize=(20, 35))\n",
    "\n",
    "# Normalize quantity ordered for color mapping\n",
    "cmap = plt.cm.coolwarm\n",
    "\n",
    "print(df_melted.columns)\n",
    "#print(df_melted[\"QUANTITYORDERED\"].describe())\n",
    "\n",
    "msrp_df = df_melted[df_melted[\"PRICETYPE\"] == \"MSRP\"]\n",
    "print(msrp_df.head(5))\n",
    "\n",
    "# Scatter plot for MSRP\n",
    "scatter_msrp = ax.scatter(\n",
    "    msrp_df['PRICE'], msrp_df['SALES'], \n",
    "    c=msrp_df['QUANTITYORDERED'], cmap=cmap,  # Color by quantity\n",
    "    alpha=0.8, edgecolors=\"black\", marker='^', label=\"MSRP\", s = 400\n",
    ")\n",
    "\n",
    "priceeach_df = df_melted[df_melted[\"PRICETYPE\"] == \"PRICEEACH\"]\n",
    "print(priceeach_df.head(5))\n",
    "\n",
    "# Scatter plot for Sale price (PRICEEACH)\n",
    "scatter_saleprice = ax.scatter(\n",
    "    priceeach_df['PRICE'], priceeach_df['SALES'], \n",
    "    c=priceeach_df['QUANTITYORDERED'], cmap=cmap,  # Color by quantity\n",
    "    alpha=0.8, edgecolors=\"black\", marker='o', label=\"Sale Price\", s=400 \n",
    ")\n",
    "\n",
    "# Add Product name annotations\n",
    "for i, row in df_melted.iterrows():\n",
    "    ax.annotate(row[\"PRODUCTLINE\"], \n",
    "                (row[\"PRICE\"], row[\"SALES\"] +70000), fontsize=12, color='black', ha='center')\n",
    "\n",
    "# Labels and Title\n",
    "ax.set_xlabel(\"Price [MSRP & Sale Price]\", fontsize=18, labelpad=15)\n",
    "ax.set_ylabel(\"Total sales\", fontsize=18, labelpad=15)\n",
    "ax.set_title(\"MSRP vs. Sale Price with Analysis of Sales and Quantity Ordered\", fontsize=22, pad=20)\n",
    "\n",
    "# Increase font size for tick labels\n",
    "ax.tick_params(axis='both', which='major', labelsize=16) \n",
    "\n",
    "# Add color bar for quantity ordered\n",
    "cbar = plt.colorbar(scatter_msrp, ax=ax)\n",
    "cbar.set_label(\"Quantity ordered\", fontsize=18)\n",
    "\n",
    "# Format color bar labels to show 'k'\n",
    "cbar.ax.yaxis.set_major_formatter(mticker.FuncFormatter(lambda x, _: f\"{int(x)}k\"))\n",
    "\n",
    "# Move legend outside\n",
    "ax.legend(loc=\"upper left\", bbox_to_anchor=(1.2, 1), borderpad=1.7, labelspacing=1.6)\n",
    "\n",
    "plt.ylim( 100000, 4200000)\n",
    "plt.xlim( 70, 123)\n",
    "\n",
    "# Save the figure\n",
    "#plt.savefig(\"reports/grouped_bar_chart.jpg\", format=\"jpg\", dpi=300, bbox_inches=\"tight\")\n",
    "\n",
    "# Show the plot\n",
    "plt.show()\n"
   ]
  },
  {
   "cell_type": "code",
   "execution_count": 24,
   "id": "f6a232ee",
   "metadata": {},
   "outputs": [
    {
     "data": {
      "text/html": [
       "<iframe\n",
       "    scrolling=\"no\"\n",
       "    width=\"1020px\"\n",
       "    height=\"720\"\n",
       "    src=\"iframe_figures/figure_24.html\"\n",
       "    frameborder=\"0\"\n",
       "    allowfullscreen\n",
       "></iframe>\n"
      ]
     },
     "metadata": {},
     "output_type": "display_data"
    }
   ],
   "source": [
    "# Pricing strategy line chart\n",
    "# Filter only valid discounts (Discount > 0)\n",
    "discount_filtered_df = df[df[\"DISCOUNT_PCT\"] > 0]\n",
    "\n",
    "# Group by date and product and calculate the average discount percentage\n",
    "df_grouped_discount = (\n",
    "    discount_filtered_df.groupby([\"ORDERDATE\", \"PRODUCTLINE\"])\n",
    "    .agg({\"DISCOUNT_PCT\": \"mean\"})\n",
    "    .reset_index()\n",
    ")\n",
    "\n",
    "# Group by product, and apply rolling window for discount calculation\n",
    "df_grouped_discount[\"ROLLING_AVG_DISCOUNT_%\"] = (\n",
    "    df_grouped_discount.groupby(\"PRODUCTLINE\")[\"DISCOUNT_PCT\"]\n",
    "    .rolling(window=30) \n",
    "    .mean()\n",
    "    .reset_index(level=0, drop=True)\n",
    ")\n",
    "\n",
    "# Create Line Chart\n",
    "fig = px.line(\n",
    "    df_grouped_discount, \n",
    "    x=\"ORDERDATE\", \n",
    "    y=\"ROLLING_AVG_DISCOUNT_%\", \n",
    "    color=\"PRODUCTLINE\",\n",
    "    title=\"Pricing Strategy: Rolling Average Discount by Product Over Time\",  \n",
    "    labels={\"ROLLING_AVG_DISCOUNT_%\": \"Discount (%)\", \"ORDERDATE\": \"Date\", \"PRODUCTLINE\": \"Product\"},\n",
    ")\n",
    "\n",
    "# Customize layout\n",
    "fig.update_layout(\n",
    "    xaxis_title=\"Date\",\n",
    "    xaxis=dict(range=[\"2003-08-01\", \"2005-07-31\"]),  # Set the date range\n",
    "    yaxis_title=\"Rolling average discount (%)\",\n",
    "    legend_title=\"Product\",\n",
    "    hovermode=\"x unified\",\n",
    "    width=1000,  # Width in pixels\n",
    "    height=700,   # Height in pixels\n",
    "    title = {\n",
    "        \"x\": 0.5,  # Center the title\n",
    "        \"xanchor\": \"center\",\n",
    "        \"yanchor\": \"top\"\n",
    "    }  \n",
    ")\n",
    "\n",
    "# Show the figure\n",
    "fig.show()\n"
   ]
  },
  {
   "cell_type": "code",
   "execution_count": 25,
   "id": "214b79da",
   "metadata": {},
   "outputs": [
    {
     "data": {
      "text/html": [
       "<iframe\n",
       "    scrolling=\"no\"\n",
       "    width=\"100%\"\n",
       "    height=\"545px\"\n",
       "    src=\"iframe_figures/figure_25.html\"\n",
       "    frameborder=\"0\"\n",
       "    allowfullscreen\n",
       "></iframe>\n"
      ]
     },
     "metadata": {},
     "output_type": "display_data"
    }
   ],
   "source": [
    "# Count deal sizes per date\n",
    "df_grouped_dealsize = df.groupby([\"ORDERDATE\", \"DEALSIZE\"]).size().reset_index(name=\"COUNT\")\n",
    "\n",
    "# Stacked area chart\n",
    "fig = px.area(\n",
    "    df_grouped_dealsize, \n",
    "    x=\"ORDERDATE\", \n",
    "    y=\"COUNT\", \n",
    "    color=\"DEALSIZE\",        \n",
    "    title=\"Deal Size Trends Over Time\", \n",
    "    labels={\"ORDERDATE\": \"Order date\", \"DEALSIZE\": \"Deal size\", \"COUNT\": \"The number of deals\"},\n",
    "    color_discrete_sequence=[\"#7C6DAA\", \"gold\", \"olive\"]\n",
    ")\n",
    "\n",
    "# Customize layout\n",
    "fig.update_layout(\n",
    "    title = dict(\n",
    "        x=0.5,  # Center the title\n",
    "        xanchor=\"center\",\n",
    "        yanchor=\"top\",\n",
    "        y=0.95,\n",
    "        font=dict(\n",
    "            size=24,\n",
    "            weight=\"bold\"\n",
    "        ) \n",
    "    ),\n",
    "    margin=dict(t=110)\n",
    ")\n",
    "\n",
    "fig.show()"
   ]
  },
  {
   "cell_type": "code",
   "execution_count": 26,
   "id": "2d91af8a",
   "metadata": {},
   "outputs": [
    {
     "name": "stdout",
     "output_type": "stream",
     "text": [
      "Total customers: 92\n",
      "Total rows: 2823\n",
      "Duplicate customer names: 2731\n"
     ]
    }
   ],
   "source": [
    "# Count unique customer names\n",
    "unique_customers = df[\"CUSTOMERNAME\"].nunique()\n",
    "total_rows = len(df)\n",
    "\n",
    "# Check for duplicates\n",
    "duplicates = df[\"CUSTOMERNAME\"].duplicated().sum()\n",
    "\n",
    "print(f\"Total customers: {unique_customers}\")\n",
    "print(f\"Total rows: {total_rows}\")\n",
    "print(f\"Duplicate customer names: {duplicates}\")"
   ]
  },
  {
   "cell_type": "code",
   "execution_count": 27,
   "id": "ba91dfa3",
   "metadata": {},
   "outputs": [
    {
     "name": "stdout",
     "output_type": "stream",
     "text": [
      "Total order number: 307\n",
      "Total rows: 2823\n",
      "Duplicate order numbers: 2516\n"
     ]
    }
   ],
   "source": [
    "# Count unique order numbers\n",
    "unique_order_number = df[\"ORDERNUMBER\"].nunique()\n",
    "total_rows = len(df)\n",
    "\n",
    "# Check for duplicates\n",
    "duplicates = df[\"ORDERNUMBER\"].duplicated().sum()\n",
    "\n",
    "print(f\"Total order number: {unique_order_number}\")\n",
    "print(f\"Total rows: {total_rows}\")\n",
    "print(f\"Duplicate order numbers: {duplicates}\")"
   ]
  },
  {
   "cell_type": "code",
   "execution_count": 28,
   "id": "aece4644",
   "metadata": {},
   "outputs": [
    {
     "data": {
      "text/plain": [
       "count    307.000000\n",
       "mean       9.195440\n",
       "std        5.024864\n",
       "min        1.000000\n",
       "25%        5.000000\n",
       "50%        9.000000\n",
       "75%       14.000000\n",
       "max       18.000000\n",
       "dtype: float64"
      ]
     },
     "execution_count": 28,
     "metadata": {},
     "output_type": "execute_result"
    }
   ],
   "source": [
    "# Check that each order includes multiple items\n",
    "df.groupby(\"ORDERNUMBER\").size().describe()"
   ]
  },
  {
   "cell_type": "code",
   "execution_count": 29,
   "id": "716d381f",
   "metadata": {
    "scrolled": true
   },
   "outputs": [
    {
     "data": {
      "text/html": [
       "<iframe\n",
       "    scrolling=\"no\"\n",
       "    width=\"1220px\"\n",
       "    height=\"870\"\n",
       "    src=\"iframe_figures/figure_29.html\"\n",
       "    frameborder=\"0\"\n",
       "    allowfullscreen\n",
       "></iframe>\n"
      ]
     },
     "metadata": {},
     "output_type": "display_data"
    }
   ],
   "source": [
    "# Group customers based on their purchase behavior\n",
    "# RFM Analysis (Recency, Frequency, Monetary)\n",
    "# Last date in the dataset\n",
    "analysis_date = df[\"ORDERDATE\"].max() \n",
    "\n",
    "rfm = df.groupby(\"CUSTOMERNAME\").agg(\n",
    "    Recency=(\"ORDERDATE\", lambda x: (analysis_date - x.max()).days),  \n",
    "    Frequency=(\"ORDERNUMBER\", \"nunique\"),     # Count of unique orders per customer\n",
    "    Monetary=(\"SALES\", \"sum\")      # Total spending per customer\n",
    ").reset_index()\n",
    "\n",
    "\n",
    "# Assuming 'rfm' DataFrame contains 'Recency', 'Frequency', 'Monetary'\n",
    "fig = px.scatter_3d(\n",
    "    rfm, \n",
    "    x=\"Recency\", \n",
    "    y=\"Frequency\", \n",
    "    z=\"Monetary\", \n",
    "    color=\"Monetary\",  # Color points based on spending\n",
    "    labels={\"Recency\": \"Recency (Days)<br>(How recently a customer made a purchase)\", \n",
    "            \"Frequency\": \"Frequency<br>(Orders per customer. <br>How often a customer buys)\", \n",
    "            \"Monetary\": 'Monetary Value<br>(Total sales per customer.<br> How much a customer has spent)'},\n",
    "    title=\"3D Visualization of Recency, Frequency, and Monetary\")\n",
    "\n",
    "# Increase figure size\n",
    "fig.update_layout(\n",
    "    width=1200,  \n",
    "    height=850,   \n",
    "    title = {\n",
    "        \"x\": 0.5,  # Center the title\n",
    "        \"xanchor\": \"center\",\n",
    "        \"yanchor\": \"top\"\n",
    "    }\n",
    ")\n",
    "\n",
    "fig.show()\n"
   ]
  },
  {
   "cell_type": "code",
   "execution_count": 30,
   "id": "edbd9a81",
   "metadata": {},
   "outputs": [
    {
     "data": {
      "text/html": [
       "<iframe\n",
       "    scrolling=\"no\"\n",
       "    width=\"100%\"\n",
       "    height=\"545px\"\n",
       "    src=\"iframe_figures/figure_30.html\"\n",
       "    frameborder=\"0\"\n",
       "    allowfullscreen\n",
       "></iframe>\n"
      ]
     },
     "metadata": {},
     "output_type": "display_data"
    }
   ],
   "source": [
    "\n",
    "# 3 pie charts for RFM show how customers are distributed within each metric.\n",
    "\n",
    "rfm['Recency_Metric'] = pd.cut(rfm['Recency'], bins=[0, 30, 90, 180, 270, 365, rfm['Recency'].max()],\n",
    "                                labels=[\"Very recent customers: 0-30 days\", \"Recent customers: 31-90 days\", \n",
    "                                        \"Occasional customers: 91-180 days\", \"Medium-engagement customers: 181-270 days\", \n",
    "                                        \"Low-engagement customers: 271-365 days\", \"Inactive customers: 365+ days\"], \n",
    "                                duplicates=\"drop\")\n",
    "\n",
    "rfm['Frequency_Metric'] = pd.cut(rfm['Frequency'], bins = [1, 2, 4, 6, 26], \n",
    "                                 labels=[\"Rare buyers: 1-2 orders\", \"Occasional buyers: 3-4 orders\", \n",
    "                                         \"Frequent buyers: 5-6 orders\", \"Very frequent buyers: 7+ orders\"])\n",
    "\n",
    "rfm['Monetary_Metric'] = pd.cut(rfm['Monetary'], bins=[0, 200000, 400000, 600000, 800000, rfm['Monetary'].max()], \n",
    "                                 labels=[\"0-200k\", \"200k-400k\", \"400k-600k\", \"600k-800k\", \"800k+\"], duplicates=\"drop\")\n",
    "\n",
    "# Create summary for each metric\n",
    "recency_counts = rfm['Recency_Metric'].value_counts().reset_index()\n",
    "recency_counts.columns = ['Category', 'Count']\n",
    "\n",
    "frequency_counts = rfm['Frequency_Metric'].value_counts().reset_index()\n",
    "frequency_counts.columns = ['Category', 'Count']\n",
    "\n",
    "monetary_counts = rfm['Monetary_Metric'].value_counts().reset_index()\n",
    "monetary_counts.columns = ['Category', 'Count']\n",
    "\n",
    "# Generate three pie charts\n",
    "fig1 = px.pie(recency_counts, names='Category', values='Count', title=\"Customer Recency Distribution\", \n",
    "              color_discrete_sequence=['lightgreen', '#F4A7A8', '#5872E6', \"#ADBBB0\", \"#97664E\", \"gold\"])\n",
    "fig2 = px.pie(frequency_counts, names='Category', values='Count', title=\"Customer Frequency Distribution\", \n",
    "             color_discrete_sequence=[\"#C2C6B3\", \"#68703E\", \"#B8A3B0\", \"#4C7588\"])\n",
    "fig3 = px.pie(monetary_counts, names='Category', values='Count', title=\"Customer Monetary Distribution\",\n",
    "             color_discrete_sequence=[\"#5B0868\", \"#97B5C9\",\"#ECCC09\",\"#DC0863\", \"#3FBF63\"])\n",
    "\n",
    "fig1.update_layout(margin=dict(t=100), title=dict(y=0.95), legend_title=\"Categories:\")\n",
    "fig2.update_layout(margin=dict(t=100), title=dict(y=0.95), legend_title=\"Categories:\")\n",
    "fig3.update_layout(margin=dict(t=150), title=dict(y=0.95), legend_title=\"Categories (How much a customer has spent):\")\n",
    "\n",
    "# Show figures\n",
    "fig1.show()\n"
   ]
  },
  {
   "cell_type": "code",
   "execution_count": 31,
   "id": "d88293fe",
   "metadata": {},
   "outputs": [
    {
     "data": {
      "text/html": [
       "<iframe\n",
       "    scrolling=\"no\"\n",
       "    width=\"100%\"\n",
       "    height=\"545px\"\n",
       "    src=\"iframe_figures/figure_31.html\"\n",
       "    frameborder=\"0\"\n",
       "    allowfullscreen\n",
       "></iframe>\n"
      ]
     },
     "metadata": {},
     "output_type": "display_data"
    }
   ],
   "source": [
    "fig2.show()"
   ]
  },
  {
   "cell_type": "code",
   "execution_count": 32,
   "id": "303624cb",
   "metadata": {},
   "outputs": [
    {
     "data": {
      "text/html": [
       "<iframe\n",
       "    scrolling=\"no\"\n",
       "    width=\"100%\"\n",
       "    height=\"545px\"\n",
       "    src=\"iframe_figures/figure_32.html\"\n",
       "    frameborder=\"0\"\n",
       "    allowfullscreen\n",
       "></iframe>\n"
      ]
     },
     "metadata": {},
     "output_type": "display_data"
    }
   ],
   "source": [
    "fig3.show()"
   ]
  }
 ],
 "metadata": {
  "kernelspec": {
   "display_name": "Python 3",
   "language": "python",
   "name": "python3"
  },
  "language_info": {
   "codemirror_mode": {
    "name": "ipython",
    "version": 3
   },
   "file_extension": ".py",
   "mimetype": "text/x-python",
   "name": "python",
   "nbconvert_exporter": "python",
   "pygments_lexer": "ipython3",
   "version": "3.8.8"
  }
 },
 "nbformat": 4,
 "nbformat_minor": 5
}
